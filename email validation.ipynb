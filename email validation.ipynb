{
 "cells": [
  {
   "cell_type": "code",
   "execution_count": 35,
   "id": "96c1e7a0-acec-4366-8fd4-82236054e78d",
   "metadata": {},
   "outputs": [
    {
     "name": "stdin",
     "output_type": "stream",
     "text": [
      "enter your email:  gargtanshi500@gmail.com\n"
     ]
    }
   ],
   "source": [
    "email = input(\"enter your email: \")\n",
    "if len(email)>=6:\n",
    "    if email[0].isalpha():\n",
    "        if (\"@\" in email) and (email.count(\"@\") == 1):\n",
    "            if (email[-3] == '.') or (email[-4] == '.'):\n",
    "                if email.lower():\n",
    "                    for i in email:\n",
    "                        if i.isspace() == False:\n",
    "                            # print(f\"{i.isspace()}\")\n",
    "                            if (i ==\".\") or  (i==\"_\") or (i==\"@\") or i.isalnum:\n",
    "                                pass\n",
    "                            else:\n",
    "                                print(\"Email invalid 7\")\n",
    "                        else:\n",
    "                            print(\"Email invalid 6\")\n",
    "                else:\n",
    "                    print(\"Email invalid 5\")\n",
    "            else:\n",
    "                print(\"Email invalid 4\")\n",
    "        else: \n",
    "            print(\"Email invalid 3\")\n",
    "    else:\n",
    "        print(\"Email invalid 2\")\n",
    "else:\n",
    "    print(\"enter a valid email 1\")\n",
    "    \n",
    "     \n"
   ]
  },
  {
   "cell_type": "code",
   "execution_count": null,
   "id": "d0361b12-7b50-4f7a-9e72-1b959f90a6fd",
   "metadata": {},
   "outputs": [],
   "source": []
  }
 ],
 "metadata": {
  "kernelspec": {
   "display_name": "Python [conda env:base] *",
   "language": "python",
   "name": "conda-base-py"
  },
  "language_info": {
   "codemirror_mode": {
    "name": "ipython",
    "version": 3
   },
   "file_extension": ".py",
   "mimetype": "text/x-python",
   "name": "python",
   "nbconvert_exporter": "python",
   "pygments_lexer": "ipython3",
   "version": "3.12.7"
  }
 },
 "nbformat": 4,
 "nbformat_minor": 5
}
